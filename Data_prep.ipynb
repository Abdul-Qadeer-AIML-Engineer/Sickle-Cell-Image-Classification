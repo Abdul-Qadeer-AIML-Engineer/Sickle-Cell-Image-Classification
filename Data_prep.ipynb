{
 "cells": [
  {
   "cell_type": "markdown",
   "metadata": {},
   "source": [
    "# Data Preperation \n",
    "### Augmenting Orignal Images\n",
    "### Handling Class Imbalance as Negative class has fewer Class instances then positve"
   ]
  },
  {
   "cell_type": "code",
   "execution_count": 4,
   "metadata": {},
   "outputs": [
    {
     "name": "stdout",
     "output_type": "stream",
     "text": [
      "Processing Positive images...\n"
     ]
    },
    {
     "name": "stderr",
     "output_type": "stream",
     "text": [
      "Positive: 100%|██████████| 422/422 [01:04<00:00,  6.55it/s]\n"
     ]
    },
    {
     "name": "stdout",
     "output_type": "stream",
     "text": [
      "Processing Negative images...\n"
     ]
    },
    {
     "name": "stderr",
     "output_type": "stream",
     "text": [
      "Negative: 100%|██████████| 147/147 [00:11<00:00, 12.45it/s]"
     ]
    },
    {
     "name": "stdout",
     "output_type": "stream",
     "text": [
      "All set! Check Pro_Data—Negative’s boosted and progress was tracked!\n"
     ]
    },
    {
     "name": "stderr",
     "output_type": "stream",
     "text": [
      "\n"
     ]
    }
   ],
   "source": [
    "from PIL import Image, ImageEnhance\n",
    "import os\n",
    "import numpy as np\n",
    "from tqdm import tqdm  # Progress bar goodness\n",
    "\n",
    "# Original data directory\n",
    "data_dir = \"Data\"\n",
    "positive_dir = os.path.join(data_dir, \"Positives\")  # Fixed to match your folder\n",
    "negative_dir = os.path.join(data_dir, \"Negatives\")  # Fixed to match your folder\n",
    "\n",
    "# New Pro_Data directory\n",
    "pro_data_dir = \"Pro_Data\"\n",
    "pro_positive_dir = os.path.join(pro_data_dir, \"Positives\")  # Keeping this as Positive\n",
    "pro_negative_dir = os.path.join(pro_data_dir, \"Negatives\")  # Keeping this as Negative\n",
    "os.makedirs(pro_positive_dir, exist_ok=True)\n",
    "os.makedirs(pro_negative_dir, exist_ok=True)\n",
    "\n",
    "# Function to augment an image\n",
    "def augment_image(img):\n",
    "    angle = np.random.uniform(-30, 30)\n",
    "    rotated_img = img.rotate(angle)\n",
    "    if np.random.rand() > 0.5:\n",
    "        flipped_img = rotated_img.transpose(Image.FLIP_LEFT_RIGHT)\n",
    "    else:\n",
    "        flipped_img = rotated_img.transpose(Image.FLIP_TOP_BOTTOM)\n",
    "    brightness = ImageEnhance.Brightness(flipped_img).enhance(np.random.uniform(0.8, 1.2))\n",
    "    contrast = ImageEnhance.Contrast(brightness).enhance(np.random.uniform(0.8, 1.2))\n",
    "    saturation = ImageEnhance.Color(contrast).enhance(np.random.uniform(0.8, 1.2))\n",
    "    return saturation\n",
    "\n",
    "# Process Positive images (double it: 1 original + 1 augmented)\n",
    "positive_files = [f for f in os.listdir(positive_dir) if f.endswith(\".jpg\")]\n",
    "positive_count = len(positive_files)\n",
    "\n",
    "print(\"Processing Positive images...\")\n",
    "for i, img_file in enumerate(tqdm(positive_files, desc=\"Positive\")):\n",
    "    img_path = os.path.join(positive_dir, img_file)\n",
    "    img = Image.open(img_path)\n",
    "    img.save(os.path.join(pro_positive_dir, f\"{i+1}.jpg\"))  # Original\n",
    "    aug_img = augment_image(img)\n",
    "    aug_img.save(os.path.join(pro_positive_dir, f\"{positive_count + i + 1}.jpg\"))  # 1 augmented\n",
    "\n",
    "# Process Negative images (triple it: 1 original + 2 augmented)\n",
    "negative_files = [f for f in os.listdir(negative_dir) if f.endswith(\".jpg\")]\n",
    "negative_count = len(negative_files)\n",
    "\n",
    "print(\"Processing Negative images...\")\n",
    "for i, img_file in enumerate(tqdm(negative_files, desc=\"Negative\")):\n",
    "    img_path = os.path.join(negative_dir, img_file)\n",
    "    img = Image.open(img_path)\n",
    "    img.save(os.path.join(pro_negative_dir, f\"N_{i+1}.jpg\"))  # Original\n",
    "    # First augmented image\n",
    "    aug_img1 = augment_image(img)\n",
    "    aug_img1.save(os.path.join(pro_negative_dir, f\"N_{negative_count + i + 1}.jpg\"))\n",
    "    # Second augmented image\n",
    "    aug_img2 = augment_image(img)\n",
    "    aug_img2.save(os.path.join(pro_negative_dir, f\"N_{2 * negative_count + i + 1}.jpg\"))\n",
    "\n",
    "print(\"All set! Check Pro_Data—Negative’s boosted and progress was tracked!\")"
   ]
  },
  {
   "cell_type": "markdown",
   "metadata": {},
   "source": [
    "# Data Preparation: Train-Test Splits\n",
    "\n",
    "### Folder Structure\n",
    "\n",
    "```bash\n",
    "Pro_Data/\n",
    "├── train/\n",
    "│   ├── Positive/\n",
    "│   │   ├── 1.jpg\n",
    "│   │   ├── 2.jpg\n",
    "│   │   ├── ...\n",
    "│   ├── Negative/\n",
    "│   │   ├── N_1.jpg\n",
    "│   │   ├── N_2.jpg\n",
    "│   │   ├── ...\n",
    "├── val/\n",
    "│   ├── Positive/\n",
    "│   │   ├── 11.jpg\n",
    "│   │   ├── 22.jpg\n",
    "│   │   ├── ...\n",
    "│   ├── Negative/\n",
    "│   │   ├── N_11.jpg\n",
    "│   │   ├── N_22.jpg\n",
    "│   │   ├── ...\n",
    "├── test/\n",
    "│   ├── Positive/\n",
    "│   │   ├── 111.jpg\n",
    "│   │   ├── 222.jpg\n",
    "│   │   ├── ...\n",
    "│   ├── Negative/\n",
    "│   │   ├── N_111.jpg\n",
    "│   │   ├── N_222.jpg\n",
    "│   │   ├── ...\n"
   ]
  },
  {
   "cell_type": "code",
   "execution_count": 6,
   "metadata": {},
   "outputs": [
    {
     "name": "stdout",
     "output_type": "stream",
     "text": [
      "Creating directory structure...\n",
      "Starting file organization...\n",
      "\n",
      "Processing Positive class:\n"
     ]
    },
    {
     "name": "stderr",
     "output_type": "stream",
     "text": [
      "Moving Positive test files:   0%|          | 0/20 [00:00<?, ?it/s]"
     ]
    },
    {
     "name": "stderr",
     "output_type": "stream",
     "text": [
      "Moving Positive test files: 100%|██████████| 20/20 [00:00<00:00, 807.01it/s]\n",
      "Moving Positive train files: 100%|██████████| 659/659 [00:00<00:00, 1348.57it/s]\n",
      "Moving Positive val files: 100%|██████████| 165/165 [00:00<00:00, 1307.12it/s]\n"
     ]
    },
    {
     "name": "stdout",
     "output_type": "stream",
     "text": [
      "\n",
      "Processing Negative class:\n"
     ]
    },
    {
     "name": "stderr",
     "output_type": "stream",
     "text": [
      "Moving Negative test files: 100%|██████████| 20/20 [00:00<00:00, 1250.17it/s]\n",
      "Moving Negative train files: 100%|██████████| 336/336 [00:00<00:00, 1193.60it/s]\n",
      "Moving Negative val files: 100%|██████████| 85/85 [00:00<00:00, 1167.99it/s]"
     ]
    },
    {
     "name": "stdout",
     "output_type": "stream",
     "text": [
      "\n",
      "Data organization completed successfully!\n"
     ]
    },
    {
     "name": "stderr",
     "output_type": "stream",
     "text": [
      "\n"
     ]
    }
   ],
   "source": [
    "import os\n",
    "import shutil\n",
    "from tqdm import tqdm\n",
    "import random\n",
    "\n",
    "def create_directory_structure(base_path):\n",
    "    # Create main directories\n",
    "    directories = [\n",
    "        os.path.join(base_path, 'train', 'Positive'),\n",
    "        os.path.join(base_path, 'train', 'Negative'),\n",
    "        os.path.join(base_path, 'val', 'Positive'),\n",
    "        os.path.join(base_path, 'val', 'Negative'),\n",
    "        os.path.join(base_path, 'test', 'Positive'),\n",
    "        os.path.join(base_path, 'test', 'Negative')\n",
    "    ]\n",
    "    \n",
    "    for directory in directories:\n",
    "        os.makedirs(directory, exist_ok=True)\n",
    "\n",
    "def split_and_move_files(source_dir, dest_dir, split_ratio=0.8, test_size=20):\n",
    "    # Get all positive and negative files\n",
    "    positive_files = [f for f in os.listdir(os.path.join(source_dir, 'Positive')) if f.endswith('.jpg')]\n",
    "    negative_files = [f for f in os.listdir(os.path.join(source_dir, 'Negative')) if f.endswith('.jpg')]\n",
    "    \n",
    "    # Shuffle files\n",
    "    random.shuffle(positive_files)\n",
    "    random.shuffle(negative_files)\n",
    "    \n",
    "    # Calculate split sizes (excluding test set)\n",
    "    for files, class_name in [(positive_files, 'Positive'), (negative_files, 'Negative')]:\n",
    "        total_files = len(files)\n",
    "        test_files = files[:test_size]  # First 20 for test\n",
    "        remaining_files = files[test_size:]  # Rest for train/val\n",
    "        train_size = int(len(remaining_files) * split_ratio)\n",
    "        \n",
    "        train_files = remaining_files[:train_size]\n",
    "        val_files = remaining_files[train_size:]\n",
    "        \n",
    "        # Move files with progress bars\n",
    "        print(f\"\\nProcessing {class_name} class:\")\n",
    "        \n",
    "        # Test files\n",
    "        with tqdm(total=len(test_files), desc=f\"Moving {class_name} test files\") as pbar:\n",
    "            for file in test_files:\n",
    "                src = os.path.join(source_dir, class_name, file)\n",
    "                dst = os.path.join(dest_dir, 'test', class_name, file)\n",
    "                shutil.copy2(src, dst)\n",
    "                pbar.update(1)\n",
    "                \n",
    "        # Train files\n",
    "        with tqdm(total=len(train_files), desc=f\"Moving {class_name} train files\") as pbar:\n",
    "            for file in train_files:\n",
    "                src = os.path.join(source_dir, class_name, file)\n",
    "                dst = os.path.join(dest_dir, 'train', class_name, file)\n",
    "                shutil.copy2(src, dst)\n",
    "                pbar.update(1)\n",
    "                \n",
    "        # Validation files\n",
    "        with tqdm(total=len(val_files), desc=f\"Moving {class_name} val files\") as pbar:\n",
    "            for file in val_files:\n",
    "                src = os.path.join(source_dir, class_name, file)\n",
    "                dst = os.path.join(dest_dir, 'val', class_name, file)\n",
    "                shutil.copy2(src, dst)\n",
    "                pbar.update(1)\n",
    "\n",
    "def main():\n",
    "    source_dir = 'Pro_Data'\n",
    "    dest_dir = 'Final_Data'\n",
    "    \n",
    "    # Verify source directory exists\n",
    "    if not os.path.exists(source_dir):\n",
    "        print(f\"Source directory '{source_dir}' not found!\")\n",
    "        return\n",
    "    \n",
    "    # Create new directory structure\n",
    "    print(\"Creating directory structure...\")\n",
    "    create_directory_structure(dest_dir)\n",
    "    \n",
    "    # Split and move files\n",
    "    print(\"Starting file organization...\")\n",
    "    split_and_move_files(source_dir, dest_dir)\n",
    "    \n",
    "    print(\"\\nData organization completed successfully!\")\n",
    "\n",
    "if __name__ == \"__main__\":\n",
    "    main()"
   ]
  }
 ],
 "metadata": {
  "kernelspec": {
   "display_name": "env",
   "language": "python",
   "name": "python3"
  },
  "language_info": {
   "codemirror_mode": {
    "name": "ipython",
    "version": 3
   },
   "file_extension": ".py",
   "mimetype": "text/x-python",
   "name": "python",
   "nbconvert_exporter": "python",
   "pygments_lexer": "ipython3",
   "version": "3.12.5"
  }
 },
 "nbformat": 4,
 "nbformat_minor": 2
}
